{
 "cells": [
  {
   "cell_type": "markdown",
   "id": "bb861598",
   "metadata": {},
   "source": [
    "### list Slicing"
   ]
  },
  {
   "cell_type": "code",
   "execution_count": 1,
   "id": "0fcfbe61",
   "metadata": {},
   "outputs": [
    {
     "data": {
      "text/plain": [
       "['notebook', 'sunglasses', 'toys', 'grapes']"
      ]
     },
     "execution_count": 1,
     "metadata": {},
     "output_type": "execute_result"
    }
   ],
   "source": [
    "amazon_cart = ['notebook', 'sunglasses', 'toys', 'grapes']\n",
    "amazon_cart"
   ]
  },
  {
   "cell_type": "code",
   "execution_count": 3,
   "id": "8ed4902a",
   "metadata": {},
   "outputs": [
    {
     "data": {
      "text/plain": [
       "['laptop', 'sunglasses', 'toys', 'grapes']"
      ]
     },
     "execution_count": 3,
     "metadata": {},
     "output_type": "execute_result"
    }
   ],
   "source": [
    "amazon_cart[0] = 'laptop'\n",
    "amazon_cart"
   ]
  },
  {
   "cell_type": "code",
   "execution_count": null,
   "id": "8d89d370",
   "metadata": {},
   "outputs": [],
   "source": []
  }
 ],
 "metadata": {
  "kernelspec": {
   "display_name": "Python 3 (ipykernel)",
   "language": "python",
   "name": "python3"
  },
  "language_info": {
   "codemirror_mode": {
    "name": "ipython",
    "version": 3
   },
   "file_extension": ".py",
   "mimetype": "text/x-python",
   "name": "python",
   "nbconvert_exporter": "python",
   "pygments_lexer": "ipython3",
   "version": "3.11.5"
  }
 },
 "nbformat": 4,
 "nbformat_minor": 5
}
